{
 "cells": [
  {
   "cell_type": "markdown",
   "metadata": {},
   "source": [
    "# Del 1, utan cheatsheet\n",
    "\n",
    "Lämna in provet genom att spara ipynb-filerna och skicka dem till oskar.lappi@turku.fi\n",
    "\n",
    "## Uppgift 1\n",
    "\n",
    "Skriv en funktion som **returnerar** ```\"Hej!\"```\n",
    " \n",
    "\n",
    " "
   ]
  },
  {
   "cell_type": "code",
   "execution_count": 4,
   "metadata": {},
   "outputs": [],
   "source": [
    "# Uppgift 1\n"
   ]
  },
  {
   "cell_type": "markdown",
   "metadata": {},
   "source": [
    "## Uppgift 2\n",
    "\n",
    "Skriv en loop som loopar över strängen ```mening``` och skriver ut ```e!``` för varje ```e```-bokstav i strängen (minns att strängar är listor av symboler)"
   ]
  },
  {
   "cell_type": "code",
   "execution_count": 10,
   "metadata": {
    "scrolled": true
   },
   "outputs": [],
   "source": [
    "mening=\"\"\"1 §. Ega flere ollonskog samman; då skola de i rättan tid sig förena, huru många swin der kunna födas, och släppe sedan hwar in efter ty, som han del i skog eger. Släpper någon flera in; hafwen de andre wåld att taga dem upp, och han böte en mark för hwart swin, och skadan åter. Eger han ej sjelf så många swin, som han på sin del föda kan; stånde honom fritt andras swin för lega intaga. Gör han det ej; då må de andre hans del saklöst nyttja.\"\"\""
   ]
  },
  {
   "cell_type": "code",
   "execution_count": 7,
   "metadata": {},
   "outputs": [],
   "source": [
    "# Uppgift 2\n"
   ]
  },
  {
   "cell_type": "markdown",
   "metadata": {},
   "source": [
    "Funktionen ```split``` finns på alla strängar i python, den hittar ett märke i strängen och delar upp strängen i alla delar separerade med det märket.\n",
    "\n",
    "T.ex. om man vill del upp en sträng på alla mellanslag, kallar man på .split(\" \").\n",
    "\n",
    "Exempel nedan"
   ]
  },
  {
   "cell_type": "code",
   "execution_count": 13,
   "metadata": {},
   "outputs": [
    {
     "data": {
      "text/plain": [
       "['hej', 'vadå', 'hurså?']"
      ]
     },
     "execution_count": 13,
     "metadata": {},
     "output_type": "execute_result"
    }
   ],
   "source": [
    "exempel=\"hej vadå hurså?\"\n",
    "\n",
    "exempel.split(\" \")"
   ]
  },
  {
   "cell_type": "markdown",
   "metadata": {},
   "source": [
    "## Uppgift 3\n",
    "\n",
    "Skriv en loop som loopar över strängen ```mening``` från uppgift 2 och skriver ut alla ord som innehåller bokstaven ```e```. Oroa dig inte om punkter, frågetecken eller andra skiljetecken, de får hänga med.\n",
    "\n",
    "tips: villkoret ```in``` kan användas för att kolla om en bokstav finns i en sträng.\n",
    "\n",
    "Exempel:"
   ]
  },
  {
   "cell_type": "code",
   "execution_count": 14,
   "metadata": {},
   "outputs": [
    {
     "data": {
      "text/plain": [
       "True"
      ]
     },
     "execution_count": 14,
     "metadata": {},
     "output_type": "execute_result"
    }
   ],
   "source": [
    "\"a\" in \"kalle\""
   ]
  },
  {
   "cell_type": "code",
   "execution_count": 16,
   "metadata": {},
   "outputs": [],
   "source": [
    "# Uppgift 3\n"
   ]
  }
 ],
 "metadata": {
  "kernelspec": {
   "display_name": "Python 3",
   "language": "python",
   "name": "python3"
  },
  "language_info": {
   "codemirror_mode": {
    "name": "ipython",
    "version": 3
   },
   "file_extension": ".py",
   "mimetype": "text/x-python",
   "name": "python",
   "nbconvert_exporter": "python",
   "pygments_lexer": "ipython3",
   "version": "3.7.1"
  }
 },
 "nbformat": 4,
 "nbformat_minor": 2
}
